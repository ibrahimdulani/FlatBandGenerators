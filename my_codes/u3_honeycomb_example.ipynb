{
  "cells": [
    {
      "cell_type": "code",
      "source": [
        "import os.path as osp\n",
        "\n",
        "import numpy as np\n",
        "import networkx as nx\n",
        "import scipy.linalg as la\n",
        "import scipy.sparse as ssp\n",
        "import matplotlib.pyplot as plt\n",
        "import seaborn as sb\n",
        "\nimport lsm"
      ],
      "outputs": [],
      "execution_count": 1,
      "metadata": {
        "collapsed": false,
        "outputHidden": false,
        "inputHidden": false
      }
    },
    {
      "cell_type": "code",
      "source": [
        "H = ssp.lil_matrix((N, N), dtype=np.float64)\n",
        "\n",
        "j0 = np.array([1,2,3,4,5])\n",
        "\n",
        "for i in range(5):\n",
        "    R = 4\n",
        "    \n",
        "    for j in range(5):\n",
        "        if i==2 && j==1:\n",
        "            H[i,j]=\n",
        "        "
      ],
      "outputs": [],
      "execution_count": 3,
      "metadata": {
        "collapsed": false,
        "outputHidden": false,
        "inputHidden": false
      }
    },
    {
      "cell_type": "code",
      "source": [],
      "outputs": [],
      "execution_count": null,
      "metadata": {
        "collapsed": false,
        "outputHidden": false,
        "inputHidden": false
      }
    }
  ],
  "metadata": {
    "kernelspec": {
      "name": "python3",
      "language": "python",
      "display_name": "Python 3"
    },
    "kernel_info": {
      "name": "python3"
    },
    "language_info": {
      "name": "python",
      "version": "3.6.1",
      "mimetype": "text/x-python",
      "codemirror_mode": {
        "name": "ipython",
        "version": 3
      },
      "pygments_lexer": "ipython3",
      "nbconvert_exporter": "python",
      "file_extension": ".py"
    },
    "nteract": {
      "version": "0.3.4"
    }
  },
  "nbformat": 4,
  "nbformat_minor": 4
}